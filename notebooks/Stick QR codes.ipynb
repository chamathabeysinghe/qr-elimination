{
 "cells": [
  {
   "cell_type": "code",
   "execution_count": 1,
   "metadata": {},
   "outputs": [],
   "source": [
    "from PIL import Image\n",
    "import matplotlib.pyplot as plt\n",
    "%matplotlib inline\n",
    "import os\n",
    "import numpy as np\n",
    "import uuid\n",
    "import random"
   ]
  },
  {
   "cell_type": "code",
   "execution_count": 57,
   "metadata": {},
   "outputs": [],
   "source": [
    "def add_background_qr(qr_tag):\n",
    "    tag_back = np.zeros((128, 128, 4))\n",
    "    mask = np.zeros((128, 128))\n",
    "    x_start = random.randint(50,60)\n",
    "    y_start = random.randint(50,60)\n",
    "    tag_back[x_start: x_start+10, y_start: y_start+10, :] = qr_tag\n",
    "    mask[x_start: x_start+10, y_start: y_start+10] = np.full((10, 10), 255)\n",
    "    tag_back = tag_back.astype(np.uint8)\n",
    "    mask = mask.astype(np.uint8)\n",
    "    return (Image.fromarray(tag_back), Image.fromarray(mask, mode='L'))"
   ]
  },
  {
   "cell_type": "code",
   "execution_count": 58,
   "metadata": {},
   "outputs": [],
   "source": [
    "# mask = np.zeros((128, 128))\n",
    "# mask[0: 10, 0: 10] = np.full((10, 10), 255)\n",
    "# mask = mask.astype(np.uint8)\n",
    "# img = Image.fromarray(mask, mode='L')\n",
    "# plt.imshow(img, cmap='gray')"
   ]
  },
  {
   "cell_type": "code",
   "execution_count": 63,
   "metadata": {},
   "outputs": [],
   "source": [
    "qr_tags_path = '/Users/chamathabeysinghe/Projects/monash/qr-elimination/data/qr_embeded_dataset/qr_tags'\n",
    "qr_tags = [Image.open(path) for path in [os.path.join(qr_tags_path, x)  for x in os.listdir(qr_tags_path) if not x.startswith('.')]]\n",
    "for qr_tag in qr_tags:\n",
    "    qr_tag.thumbnail((10, 10), Image.ANTIALIAS)\n",
    "# qr_tags = [add_background_qr(qr_tag) for qr_tag in qr_tags]"
   ]
  },
  {
   "cell_type": "code",
   "execution_count": 64,
   "metadata": {},
   "outputs": [],
   "source": [
    "crop_imgs_path = '/Users/chamathabeysinghe/Projects/monash/qr-elimination/data/qr_embeded_dataset/ant_cropped_images'\n",
    "img_paths = [os.path.join(crop_imgs_path, x) for x in os.listdir(crop_imgs_path) if not x.startswith('.')]\n",
    "dataset_X = '/Users/chamathabeysinghe/Projects/monash/qr-elimination/data/qr_embeded_dataset/dataset/X'\n",
    "dataset_masks = '/Users/chamathabeysinghe/Projects/monash/qr-elimination/data/qr_embeded_dataset/dataset/masks'\n",
    "dataset_Y = '/Users/chamathabeysinghe/Projects/monash/qr-elimination/data/qr_embeded_dataset/dataset/Y'\n",
    "os.makedirs(dataset_X, exist_ok=True)\n",
    "os.makedirs(dataset_Y, exist_ok=True)\n",
    "os.makedirs(dataset_masks, exist_ok=True)"
   ]
  },
  {
   "cell_type": "code",
   "execution_count": 65,
   "metadata": {},
   "outputs": [],
   "source": [
    "for p in img_paths:\n",
    "    img = Image.open(p)\n",
    "    img = img.convert(\"RGBA\") \n",
    "    if (img.size != (128, 128)):\n",
    "        continue\n",
    "    for qr_tag in qr_tags:\n",
    "        filename = str(uuid.uuid4())+'.png'\n",
    "        qr_image, mask = add_background_qr(qr_tag)\n",
    "        embedded_image = Image.alpha_composite(img, qr_image)\n",
    "        embedded_image.save(os.path.join(dataset_X, filename))\n",
    "        img.save(os.path.join(dataset_Y, filename))\n",
    "        mask.save(os.path.join(dataset_masks, filename))\n",
    "    "
   ]
  },
  {
   "cell_type": "code",
   "execution_count": null,
   "metadata": {},
   "outputs": [],
   "source": []
  }
 ],
 "metadata": {
  "kernelspec": {
   "display_name": "qr-elimination",
   "language": "python",
   "name": "qr-elimination"
  },
  "language_info": {
   "codemirror_mode": {
    "name": "ipython",
    "version": 3
   },
   "file_extension": ".py",
   "mimetype": "text/x-python",
   "name": "python",
   "nbconvert_exporter": "python",
   "pygments_lexer": "ipython3",
   "version": "3.7.7"
  }
 },
 "nbformat": 4,
 "nbformat_minor": 2
}
