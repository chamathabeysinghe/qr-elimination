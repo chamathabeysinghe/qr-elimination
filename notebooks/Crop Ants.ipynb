{
 "cells": [
  {
   "cell_type": "code",
   "execution_count": 1,
   "metadata": {},
   "outputs": [],
   "source": [
    "import cv2\n",
    "import numpy as np\n",
    "import os\n",
    "import glob\n",
    "from PIL import Image\n",
    "import matplotlib.pyplot as plt\n",
    "import pickle\n",
    "from random import randint\n"
   ]
  },
  {
   "cell_type": "code",
   "execution_count": 2,
   "metadata": {},
   "outputs": [],
   "source": [
    "def read_image(path):\n",
    "    img = np.asarray(Image.open(path))\n",
    "    return img\n",
    "\n",
    "def write_image_to_file(img, path):\n",
    "    cv2.imwrite(path, img)\n",
    "    \n",
    "def draw_image(image):\n",
    "    image = np.squeeze(image)\n",
    "    plt.figure(figsize=(7, 7))\n",
    "    plt.imshow(image, cmap='gray', interpolation='none')\n",
    "    plt.axis('off')\n",
    "    plt.show()\n",
    "\n",
    "def resize_image(img, resize_shape):\n",
    "    res = cv2.resize(img, dsize=resize_shape, interpolation=cv2.INTER_CUBIC)\n",
    "    return res    "
   ]
  },
  {
   "cell_type": "code",
   "execution_count": 46,
   "metadata": {},
   "outputs": [],
   "source": [
    "def get_bounding_boxes(image):\n",
    "    bboxes = []\n",
    "    ret, thresh = cv2.threshold(img, 120, 255, 0)\n",
    "    kernel = cv2.getStructuringElement(cv2.MORPH_RECT, (3,3))\n",
    "    dilate = cv2.dilate(thresh, kernel, iterations=3)\n",
    "#     draw_image(dilate)\n",
    "    contours, hierarchy = cv2.findContours(dilate, cv2.RETR_TREE, cv2.CHAIN_APPROX_SIMPLE)\n",
    "    for cnt in contours:\n",
    "        area = cv2.contourArea(cnt)\n",
    "        if (area > 400.0):\n",
    "            x, y, w, h = cv2.boundingRect(cnt)\n",
    "            crop = thresh[y:y+h, x:x+w]\n",
    "            \n",
    "            white_count = crop[crop > 1].shape[0]\n",
    "            black_count = crop[crop < 1].shape[0]\n",
    "#             print(while_count/black_count)\n",
    "            \n",
    "            if (white_count/black_count > 0.08):\n",
    "                x, y, w, h = cv2.boundingRect(cnt)\n",
    "                up_shift = int((128 - h) / 2)\n",
    "                y = y - up_shift\n",
    "\n",
    "                left_shift = int((128 - w) / 2)\n",
    "                x = x - left_shift\n",
    "\n",
    "#                 bboxes2 = [(x, y, 128, 128)]\n",
    "                if (x >= 0 and y >= 0):\n",
    "                    bboxes.append((x, y, 128, 128))\n",
    "                else:\n",
    "                    x, y, w, h = cv2.boundingRect(cnt)\n",
    "                    bboxes.append((x, y, 128, 128))\n",
    "    return bboxes\n",
    "    "
   ]
  },
  {
   "cell_type": "code",
   "execution_count": 47,
   "metadata": {},
   "outputs": [],
   "source": [
    "def draw_bboxes(gray_img, bboxes):\n",
    "    img = cv2.cvtColor(gray_img,cv2.COLOR_GRAY2RGB)\n",
    "    for b in bboxes:\n",
    "        x, y, w, h = b\n",
    "        cv2.rectangle(img,(x,y),(x+w,y+h),(0,255,0),2)\n",
    "    draw_image(img)"
   ]
  },
  {
   "cell_type": "code",
   "execution_count": 48,
   "metadata": {},
   "outputs": [],
   "source": [
    "def crop_selection(img, bbox):\n",
    "    x, y, w, h = bbox\n",
    "    crop = img[y:y+h, x:x+w]\n",
    "    return crop"
   ]
  },
  {
   "cell_type": "code",
   "execution_count": 49,
   "metadata": {},
   "outputs": [
    {
     "name": "stdout",
     "output_type": "stream",
     "text": [
      "[(149, 817, 128, 128)]\n"
     ]
    },
    {
     "data": {
      "image/png": "[encoded data removed]",
      "text/plain": [
       "<Figure size 504x504 with 1 Axes>"
      ]
     },
     "metadata": {
      "needs_background": "light"
     },
     "output_type": "display_data"
    }
   ],
   "source": [
    "path_1 = \"/Users/chamathabeysinghe/Projects/monash/test/variational_auto_encoder/data/ANTS2/sel_frames/1/ant_00013.png\"\n",
    "path_2 = \"/Users/chamathabeysinghe/Projects/monash/test/variational_auto_encoder/data/ANTS2/sel_frames/1/ant_00063.png\"\n",
    "img = read_image(path_1)\n",
    "bboxes = get_bounding_boxes(img)\n",
    "# bboxes = [(bboxes[0][0], bboxes[0][1], 128, 128)]\n",
    "\n",
    "print(bboxes)\n",
    "draw_bboxes(img, bboxes)"
   ]
  },
  {
   "cell_type": "code",
   "execution_count": 50,
   "metadata": {},
   "outputs": [],
   "source": [
    "image_path = '/Users/chamathabeysinghe/Projects/monash/qr-elimination/data/qr_embeded_dataset/raw_data/full_images/1'\n",
    "mask_path = '/Users/chamathabeysinghe/Projects/monash/qr-elimination/data/qr_embeded_dataset/raw_data/full_image_masks/1'\n",
    "crop_path = '/Users/chamathabeysinghe/Projects/monash/qr-elimination/data/qr_embeded_dataset/ant_cropped_images'\n",
    "\n",
    "files = [x for x in os.listdir(mask_path) if not x.startswith('.')]\n"
   ]
  },
  {
   "cell_type": "code",
   "execution_count": 52,
   "metadata": {},
   "outputs": [],
   "source": [
    "for file in files: \n",
    "    img = read_image(os.path.join(mask_path, file))\n",
    "    bboxes = get_bounding_boxes(img)\n",
    "    img_clr = read_image(os.path.join(image_path, file))\n",
    "    crop = crop_selection(img_clr, bboxes[0])\n",
    "#     draw_image(crop)\n",
    "    write_image_to_file(crop, os.path.join(crop_path, file))\n",
    "    \n"
   ]
  },
  {
   "cell_type": "code",
   "execution_count": null,
   "metadata": {},
   "outputs": [],
   "source": []
  },
  {
   "cell_type": "code",
   "execution_count": null,
   "metadata": {},
   "outputs": [],
   "source": []
  }
 ],
 "metadata": {
  "kernelspec": {
   "display_name": "qr-elimination",
   "language": "python",
   "name": "qr-elimination"
  },
  "language_info": {
   "codemirror_mode": {
    "name": "ipython",
    "version": 3
   },
   "file_extension": ".py",
   "mimetype": "text/x-python",
   "name": "python",
   "nbconvert_exporter": "python",
   "pygments_lexer": "ipython3",
   "version": "3.7.7"
  }
 },
 "nbformat": 4,
 "nbformat_minor": 2
}
